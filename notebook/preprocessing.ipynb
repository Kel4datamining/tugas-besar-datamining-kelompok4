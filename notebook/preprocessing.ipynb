{
 "cells": [
  {
   "cell_type": "code",
   "execution_count": 1,
   "id": "86a6ded9",
   "metadata": {},
   "outputs": [],
   "source": [
    "import pandas as pd\n",
    "from datetime import datetime"
   ]
  },
  {
   "cell_type": "code",
   "execution_count": 2,
   "id": "a8d8d31e",
   "metadata": {},
   "outputs": [
    {
     "name": "stdout",
     "output_type": "stream",
     "text": [
      "Data sebelum preprocessing:\n",
      "   conversation_id_str                      created_at  favorite_count  \\\n",
      "0         1.934963e+18  Tue Jun 17 13:13:45 +0000 2025               1   \n",
      "1         1.934956e+18  Tue Jun 17 12:46:31 +0000 2025               0   \n",
      "2         1.934947e+18  Tue Jun 17 12:10:21 +0000 2025               0   \n",
      "3         1.934816e+18  Tue Jun 17 10:50:57 +0000 2025               0   \n",
      "4         1.934918e+18  Tue Jun 17 10:16:52 +0000 2025               0   \n",
      "\n",
      "                                           full_text        id_str image_url  \\\n",
      "0   Pembayaran Harian yang Praktis Ada PEXX Card ...  1.934963e+18       NaN   \n",
      "1  Aplikasi online yg ada fitur mobil pick up nya...  1.934956e+18       NaN   \n",
      "2  Aku lagi survey data tentang seberapa sering k...  1.934947e+18       NaN   \n",
      "3  @e100ss Bukan ide baru. Bahkan lahirnya gojek ...  1.934927e+18       NaN   \n",
      "4  Pesan Taksi Listrik Green SM Kini Bisa via Apl...  1.934918e+18       NaN   \n",
      "\n",
      "  in_reply_to_screen_name lang  location  quote_count  reply_count  \\\n",
      "0              Elganesh07   in       NaN            0            1   \n",
      "1                     NaN   in       NaN            1            0   \n",
      "2                     NaN   in       NaN            0            0   \n",
      "3                  e100ss   in       NaN            0            0   \n",
      "4                     NaN   in       NaN            0            0   \n",
      "\n",
      "   retweet_count                                          tweet_url  \\\n",
      "0              0  https://x.com/undefined/status/193496266984667...   \n",
      "1              0  https://x.com/undefined/status/193495581642525...   \n",
      "2              0  https://x.com/undefined/status/193494671862340...   \n",
      "3              0  https://x.com/undefined/status/193492673535690...   \n",
      "4              0  https://x.com/undefined/status/193491815702376...   \n",
      "\n",
      "    user_id_str  username  \n",
      "0  9.622930e+08       NaN  \n",
      "1  2.940375e+09       NaN  \n",
      "2  1.489873e+18       NaN  \n",
      "3  1.669462e+18       NaN  \n",
      "4  3.937549e+08       NaN  \n"
     ]
    }
   ],
   "source": [
    "df = pd.read_csv('../data/raw/GojekReview.csv')\n",
    "print(\"Data sebelum preprocessing:\")\n",
    "print(df.head())"
   ]
  }
 ],
 "metadata": {
  "kernelspec": {
   "display_name": "Python 3",
   "language": "python",
   "name": "python3"
  },
  "language_info": {
   "codemirror_mode": {
    "name": "ipython",
    "version": 3
   },
   "file_extension": ".py",
   "mimetype": "text/x-python",
   "name": "python",
   "nbconvert_exporter": "python",
   "pygments_lexer": "ipython3",
   "version": "3.11.2"
  }
 },
 "nbformat": 4,
 "nbformat_minor": 5
}
