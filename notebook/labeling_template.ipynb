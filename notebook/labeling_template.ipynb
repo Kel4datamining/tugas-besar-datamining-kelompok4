{
 "cells": [
  {
   "cell_type": "code",
   "execution_count": 1,
   "id": "abb9ccec",
   "metadata": {},
   "outputs": [
    {
     "name": "stderr",
     "output_type": "stream",
     "text": [
      "Device set to use cpu\n"
     ]
    }
   ],
   "source": [
    "import pandas as pd\n",
    "from transformers import pipeline\n",
    "from tqdm.auto import tqdm\n",
    "\n",
    "# Muat model pre-trained IndoBERT\n",
    "indoBERT = \"mdhugol/indonesia-bert-sentiment-classification\"\n",
    "sentiment_pipeline = pipeline(\"sentiment-analysis\", model=indoBERT)\n"
   ]
  },
  {
   "cell_type": "code",
   "execution_count": 2,
   "id": "be38aeb8",
   "metadata": {},
   "outputs": [
    {
     "name": "stdout",
     "output_type": "stream",
     "text": [
      "Jumlah data: 282\n"
     ]
    },
    {
     "data": {
      "text/html": [
       "<div>\n",
       "<style scoped>\n",
       "    .dataframe tbody tr th:only-of-type {\n",
       "        vertical-align: middle;\n",
       "    }\n",
       "\n",
       "    .dataframe tbody tr th {\n",
       "        vertical-align: top;\n",
       "    }\n",
       "\n",
       "    .dataframe thead th {\n",
       "        text-align: right;\n",
       "    }\n",
       "</style>\n",
       "<table border=\"1\" class=\"dataframe\">\n",
       "  <thead>\n",
       "    <tr style=\"text-align: right;\">\n",
       "      <th></th>\n",
       "      <th>clean_text</th>\n",
       "    </tr>\n",
       "  </thead>\n",
       "  <tbody>\n",
       "    <tr>\n",
       "      <th>0</th>\n",
       "      <td>pembayaran harian yang praktis ada pexx card y...</td>\n",
       "    </tr>\n",
       "    <tr>\n",
       "      <th>1</th>\n",
       "      <td>aplikasi online yg ada fitur mobil pick up nya...</td>\n",
       "    </tr>\n",
       "    <tr>\n",
       "      <th>2</th>\n",
       "      <td>aku lagi survey data tentang seberapa sering k...</td>\n",
       "    </tr>\n",
       "    <tr>\n",
       "      <th>3</th>\n",
       "      <td>bukan ide baru bahkan lahirnya gojek juga awal...</td>\n",
       "    </tr>\n",
       "    <tr>\n",
       "      <th>4</th>\n",
       "      <td>pesan taksi listrik green sm kini bisa via apl...</td>\n",
       "    </tr>\n",
       "  </tbody>\n",
       "</table>\n",
       "</div>"
      ],
      "text/plain": [
       "                                          clean_text\n",
       "0  pembayaran harian yang praktis ada pexx card y...\n",
       "1  aplikasi online yg ada fitur mobil pick up nya...\n",
       "2  aku lagi survey data tentang seberapa sering k...\n",
       "3  bukan ide baru bahkan lahirnya gojek juga awal...\n",
       "4  pesan taksi listrik green sm kini bisa via apl..."
      ]
     },
     "execution_count": 2,
     "metadata": {},
     "output_type": "execute_result"
    }
   ],
   "source": [
    "# Path file clean\n",
    "df = pd.read_csv(\"../data/processed/gojek_cleaned.csv\")\n",
    "\n",
    "print(\"Jumlah data:\", len(df))\n",
    "df.head()\n"
   ]
  },
  {
   "cell_type": "code",
   "execution_count": 3,
   "id": "d526d089",
   "metadata": {},
   "outputs": [
    {
     "data": {
      "application/vnd.jupyter.widget-view+json": {
       "model_id": "8a9b9ac616f94476ac1ff1ce12b1cbaf",
       "version_major": 2,
       "version_minor": 0
      },
      "text/plain": [
       "  0%|          | 0/282 [00:00<?, ?it/s]"
      ]
     },
     "metadata": {},
     "output_type": "display_data"
    }
   ],
   "source": [
    "# Prediksi sentimen (gunakan tqdm untuk progress bar)\n",
    "clean_texts = df[\"clean_text\"].astype(str).tolist()\n",
    "\n",
    "results = []\n",
    "for text in tqdm(clean_texts):\n",
    "    try:\n",
    "        prediction = sentiment_pipeline(text[:512])[0]  # potong agar tidak > max token\n",
    "        results.append(prediction[\"label\"])\n",
    "    except:\n",
    "        results.append(\"neutral\")  # fallback jika error\n"
   ]
  },
  {
   "cell_type": "code",
   "execution_count": 6,
   "id": "bc0ddd7f",
   "metadata": {},
   "outputs": [
    {
     "data": {
      "text/html": [
       "<div>\n",
       "<style scoped>\n",
       "    .dataframe tbody tr th:only-of-type {\n",
       "        vertical-align: middle;\n",
       "    }\n",
       "\n",
       "    .dataframe tbody tr th {\n",
       "        vertical-align: top;\n",
       "    }\n",
       "\n",
       "    .dataframe thead th {\n",
       "        text-align: right;\n",
       "    }\n",
       "</style>\n",
       "<table border=\"1\" class=\"dataframe\">\n",
       "  <thead>\n",
       "    <tr style=\"text-align: right;\">\n",
       "      <th></th>\n",
       "      <th>clean_text</th>\n",
       "      <th>sentiment</th>\n",
       "    </tr>\n",
       "  </thead>\n",
       "  <tbody>\n",
       "    <tr>\n",
       "      <th>0</th>\n",
       "      <td>pembayaran harian yang praktis ada pexx card y...</td>\n",
       "      <td>negative</td>\n",
       "    </tr>\n",
       "    <tr>\n",
       "      <th>1</th>\n",
       "      <td>aplikasi online yg ada fitur mobil pick up nya...</td>\n",
       "      <td>neutral</td>\n",
       "    </tr>\n",
       "    <tr>\n",
       "      <th>2</th>\n",
       "      <td>aku lagi survey data tentang seberapa sering k...</td>\n",
       "      <td>negative</td>\n",
       "    </tr>\n",
       "    <tr>\n",
       "      <th>3</th>\n",
       "      <td>bukan ide baru bahkan lahirnya gojek juga awal...</td>\n",
       "      <td>positive</td>\n",
       "    </tr>\n",
       "    <tr>\n",
       "      <th>4</th>\n",
       "      <td>pesan taksi listrik green sm kini bisa via apl...</td>\n",
       "      <td>neutral</td>\n",
       "    </tr>\n",
       "  </tbody>\n",
       "</table>\n",
       "</div>"
      ],
      "text/plain": [
       "                                          clean_text sentiment\n",
       "0  pembayaran harian yang praktis ada pexx card y...  negative\n",
       "1  aplikasi online yg ada fitur mobil pick up nya...   neutral\n",
       "2  aku lagi survey data tentang seberapa sering k...  negative\n",
       "3  bukan ide baru bahkan lahirnya gojek juga awal...  positive\n",
       "4  pesan taksi listrik green sm kini bisa via apl...   neutral"
      ]
     },
     "execution_count": 6,
     "metadata": {},
     "output_type": "execute_result"
    }
   ],
   "source": [
    "# Mapping label\n",
    "label_map = {\n",
    "    \"LABEL_0\": \"negative\",\n",
    "    \"LABEL_1\": \"neutral\",\n",
    "    \"LABEL_2\": \"positive\"\n",
    "}\n",
    "\n",
    "# Ubah label ke bentuk string\n",
    "df[\"sentiment\"] = df[\"sentiment\"].map(label_map)\n",
    "\n",
    "# Cek hasil\n",
    "df[[\"clean_text\", \"sentiment\"]].head()\n"
   ]
  },
  {
   "cell_type": "code",
   "execution_count": 7,
   "id": "600954bc",
   "metadata": {},
   "outputs": [
    {
     "name": "stdout",
     "output_type": "stream",
     "text": [
      "✅ File tersimpan: data/processed/gojek_cleaned_labeled.csv\n"
     ]
    }
   ],
   "source": [
    "import os\n",
    "\n",
    "# Pastikan folder output ada\n",
    "output_dir = \"../data/processed\"\n",
    "os.makedirs(output_dir, exist_ok=True)\n",
    "\n",
    "# Simpan ke CSV\n",
    "df.to_csv(os.path.join(output_dir, \"gojek_cleaned_labeled.csv\"), index=False)\n",
    "\n",
    "print(\"✅ File tersimpan: data/processed/gojek_cleaned_labeled.csv\")\n"
   ]
  }
 ],
 "metadata": {
  "kernelspec": {
   "display_name": "Python 3",
   "language": "python",
   "name": "python3"
  },
  "language_info": {
   "codemirror_mode": {
    "name": "ipython",
    "version": 3
   },
   "file_extension": ".py",
   "mimetype": "text/x-python",
   "name": "python",
   "nbconvert_exporter": "python",
   "pygments_lexer": "ipython3",
   "version": "3.11.2"
  }
 },
 "nbformat": 4,
 "nbformat_minor": 5
}
