{
 "cells": [
  {
   "cell_type": "code",
   "execution_count": 4,
   "id": "e5a38a12",
   "metadata": {},
   "outputs": [
    {
     "data": {
      "text/html": [
       "<div>\n",
       "<style scoped>\n",
       "    .dataframe tbody tr th:only-of-type {\n",
       "        vertical-align: middle;\n",
       "    }\n",
       "\n",
       "    .dataframe tbody tr th {\n",
       "        vertical-align: top;\n",
       "    }\n",
       "\n",
       "    .dataframe thead th {\n",
       "        text-align: right;\n",
       "    }\n",
       "</style>\n",
       "<table border=\"1\" class=\"dataframe\">\n",
       "  <thead>\n",
       "    <tr style=\"text-align: right;\">\n",
       "      <th></th>\n",
       "      <th>full_text</th>\n",
       "      <th>preprocessed</th>\n",
       "      <th>label</th>\n",
       "    </tr>\n",
       "  </thead>\n",
       "  <tbody>\n",
       "    <tr>\n",
       "      <th>0</th>\n",
       "      <td>Pembayaran Harian yang Praktis Ada PEXX Card ...</td>\n",
       "      <td>bayar hari praktis pexx card kamu pakai bayar ...</td>\n",
       "      <td>positif</td>\n",
       "    </tr>\n",
       "    <tr>\n",
       "      <th>1</th>\n",
       "      <td>Aplikasi online yg ada fitur mobil pick up nya...</td>\n",
       "      <td>aplikasi online fitur mobil pick nya apa mobil...</td>\n",
       "      <td>netral</td>\n",
       "    </tr>\n",
       "    <tr>\n",
       "      <th>2</th>\n",
       "      <td>Aku lagi survey data tentang seberapa sering k...</td>\n",
       "      <td>aku survey data berapa sering pakai aplikasi k...</td>\n",
       "      <td>netral</td>\n",
       "    </tr>\n",
       "    <tr>\n",
       "      <th>3</th>\n",
       "      <td>@e100ss Bukan ide baru. Bahkan lahirnya gojek ...</td>\n",
       "      <td>bukan ide baru bahkan lahir gojek awal krn apl...</td>\n",
       "      <td>netral</td>\n",
       "    </tr>\n",
       "    <tr>\n",
       "      <th>4</th>\n",
       "      <td>Pesan Taksi Listrik Green SM Kini Bisa via Apl...</td>\n",
       "      <td>pesan taksi listrik green kini via aplikasi gojek</td>\n",
       "      <td>netral</td>\n",
       "    </tr>\n",
       "  </tbody>\n",
       "</table>\n",
       "</div>"
      ],
      "text/plain": [
       "                                           full_text  \\\n",
       "0   Pembayaran Harian yang Praktis Ada PEXX Card ...   \n",
       "1  Aplikasi online yg ada fitur mobil pick up nya...   \n",
       "2  Aku lagi survey data tentang seberapa sering k...   \n",
       "3  @e100ss Bukan ide baru. Bahkan lahirnya gojek ...   \n",
       "4  Pesan Taksi Listrik Green SM Kini Bisa via Apl...   \n",
       "\n",
       "                                        preprocessed    label  \n",
       "0  bayar hari praktis pexx card kamu pakai bayar ...  positif  \n",
       "1  aplikasi online fitur mobil pick nya apa mobil...   netral  \n",
       "2  aku survey data berapa sering pakai aplikasi k...   netral  \n",
       "3  bukan ide baru bahkan lahir gojek awal krn apl...   netral  \n",
       "4  pesan taksi listrik green kini via aplikasi gojek   netral  "
      ]
     },
     "execution_count": 4,
     "metadata": {},
     "output_type": "execute_result"
    }
   ],
   "source": [
    "# Import Library\n",
    "import pandas as pd\n",
    "import matplotlib.pyplot as plt\n",
    "import seaborn as sns\n",
    "\n",
    "# Load Dataset\n",
    "df = pd.read_csv('../data/processed/gojek_reviews_preprocessed.csv')\n",
    "df.head()"
   ]
  }
 ],
 "metadata": {
  "kernelspec": {
   "display_name": ".venv (3.13.2)",
   "language": "python",
   "name": "python3"
  },
  "language_info": {
   "codemirror_mode": {
    "name": "ipython",
    "version": 3
   },
   "file_extension": ".py",
   "mimetype": "text/x-python",
   "name": "python",
   "nbconvert_exporter": "python",
   "pygments_lexer": "ipython3",
   "version": "3.13.2"
  }
 },
 "nbformat": 4,
 "nbformat_minor": 5
}
